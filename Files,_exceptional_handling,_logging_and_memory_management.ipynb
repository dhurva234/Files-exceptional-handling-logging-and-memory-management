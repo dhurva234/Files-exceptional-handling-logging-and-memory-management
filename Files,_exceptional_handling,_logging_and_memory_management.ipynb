{
  "nbformat": 4,
  "nbformat_minor": 0,
  "metadata": {
    "colab": {
      "provenance": []
    },
    "kernelspec": {
      "name": "python3",
      "display_name": "Python 3"
    },
    "language_info": {
      "name": "python"
    }
  },
  "cells": [
    {
      "cell_type": "markdown",
      "source": [
        "# THEORY QUESTIONS."
      ],
      "metadata": {
        "id": "cf9vQNdkoiln"
      }
    },
    {
      "cell_type": "markdown",
      "source": [
        "1. What is the difference between interpreted and compiled languages ?\n",
        "  -  Interpreted languages are translated and\n",
        "    executed line by line, while compiled languages are translated entirely into machine code before execution.\n",
        "\n",
        "- Here's a more detailed breakdown:\n",
        "\n",
        "    - Interpreted Languages: Code is read and   executed directly by an interpreter. The interpreter translates each line of code into machine code just before it is run. This can make development faster as you don't need to compile the whole program every time you make a change. Examples include Python and JavaScript.\n",
        "\n",
        "    - Compiled Languages: Code is translated into\n",
        "      machine code by a compiler before the program is executed. The compiler creates an executable file that can be run independently of the compiler. This process can take more time during development, but compiled programs often run faster because the translation is done only once. Examples include C++ and Java.\n",
        "\n",
        "2. What is exception handling in Python ?\n",
        "  - Exception handling in Python allows you to\n",
        "     deal with errors that occur during the execution of your program. When an error happens, it's called an exception. Without exception handling, your program would typically stop running.\n",
        "\n",
        "- Python uses try, except, and optionally finally blocks to handle exceptions.\n",
        "\n",
        "    - try block: This block contains the code that\n",
        "      might raise an exception.\n",
        "\n",
        "    - except block: If an exception occurs within the  try block, the code in the corresponding except block is executed. You can specify the type of exception to catch.\n",
        "\n",
        "    - finally block (optional): This block contains\n",
        "      code that will be executed regardless of whether an exception occurred or not. It's often used for cleanup operations.\n",
        "\n",
        "3. What is the purpose of the finally block in exception handling ?\n",
        "   - The purpose of the finally block in exception\n",
        "     handling is to define a block of code that will be executed regardless of whether an exception occurred or not.\n",
        "\n",
        "- This is useful for:\n",
        "\n",
        "  (1). Cleanup operations: Ensuring that resources are\n",
        "    properly closed or released, such as closing files, database connections, or network sockets, even if an error happens during the process.\n",
        "\n",
        "  (2). Guaranteed execution: Performing actions that\n",
        "    must happen every time, like printing a message or performing a final calculation, regardless of the outcome of the try block.\n",
        "\n",
        "\n",
        "4. What is logging in Python ?\n",
        "   - Logging in Python is a way to track events that\n",
        "     happen when your software runs. It provides a standardized way to report errors, warnings, informational messages, and debugging details from your program. This is very useful for understanding how your code is behaving, especially when you're trying to debug issues or monitor a running application.\n",
        "\n",
        "- The Python standard library provides the logging module for this purpose.\n",
        "\n",
        "Key concepts in Python logging:\n",
        "\n",
        "- Loggers: These are the entry points to the logging system. You typically get a logger using logging.getLogger(). Loggers have a hierarchical structure, similar to Python packages [1].\n",
        "\n",
        "- Handlers: These determine where log records are sent. Examples include sending logs to the console, a file, or even a remote server.\n",
        "\n",
        "- Formatters: These specify the layout of the log records. You can include information like the timestamp, logger name, log level, and the message itself.\n",
        "\n",
        "- Log Levels: These categorize the severity of the events. Common levels include:\n",
        "\n",
        "5. What is the significance of the __del__ method in Python ?\n",
        "   -  The __del__ method in Python, also known as the\n",
        "      destructor, is a special method that is called when an object is about to be destroyed or garbage collected. Its primary significance lies in performing cleanup actions before an object is removed from memory.\n",
        "\n",
        "- Here's a breakdown of its significance:\n",
        "\n",
        "(1). resource Cleanup: The most common use case for __del__ is to release external resources that the object might be holding. This could include:\n",
        "\n",
        "   - Closing file handles.\n",
        "\n",
        "   - Closing network connections.\n",
        "\n",
        "   - Releasing locks.\n",
        "\n",
        "   - Cleaning up temporary files.\n",
        "\n",
        "(2). Alternative to finally in some cases: While the finally block in exception handling is typically used for cleanup within a specific block of code, __del__ provides a way to perform cleanup when the object itself is no longer needed, regardless of where in the code it was used.\n",
        "\n",
        "(3). Potential complexities with garbage collection: It's important to note that the exact timing of when __del__ is called can be unpredictable due to Python's garbage collection process. This makes it generally less reliable for critical resource management compared to explicit cleanup methods or context managers (with statements).\n",
        "\n",
        "6. What is the difference between import and from ... import in Python ?\n",
        "   -  The difference between import module_name and\n",
        "      from module_name import object_name in Python lies in how the imported objects are accessed in your code.\n",
        "\n",
        "(1). import module_name:\n",
        "\n",
        "  - This statement imports the entire module into your\n",
        "    current namespace.\n",
        "\n",
        "  - To access objects (like functions, classes, or\n",
        "   variables) within the imported module, you need to prefix them with the module name followed by a dot (.).\n",
        "\n",
        "(2). from module_name import object_name:\n",
        "\n",
        "  - This statement imports specific objects (functions, classes, or variables) directly into your current namespace.\n",
        "\n",
        "  - You can then use these imported objects directly without needing to prefix them with the module name.\n",
        "\n",
        "\n",
        "7. How can you handle multiple exceptions in Python ?\n",
        "   - In Python, you can handle multiple exceptions\n",
        "     using the try...except block in several ways:\n",
        "\n",
        "  (1). Multiple except blocks: You can include multiple\n",
        "     except blocks, each handling a specific type of exception. The first except block that matches the raised exception will be executed.\n",
        "\n",
        "    (2). Handling multiple exceptions in a single except block: You can group multiple exception types together in a single except block by listing them in a tuple.\n",
        "\n",
        "   (3). Using as to get the exception object: In either of the above methods, you can use the as keyword to assign the exception object to a variable. This allows you to access information about the exception, such as its type and message.\n",
        "\n",
        "8. What is the purpose of the with statement when handling files in Python ?\n",
        "   -  The purpose of the with statement when handling    files in Python is to ensure that resources are properly managed, specifically by guaranteeing that a file is closed automatically after its usage is complete, even if errors occur.\n",
        "\n",
        "- The with statement works with objects that support the context management protocol, which involves __enter__ and __exit__ methods. When you use a with statement with a file object:\n",
        "\n",
        "  1.The __enter__ method of the file object is called. This typically opens the file.\n",
        "\n",
        "  2.The code block within the with statement is executed.\n",
        "\n",
        "  3.Regardless of whether the code block completes successfully or an exception is raised, the __exit__ method of the file object is called. This method is responsible for closing the file.\n",
        "\n",
        "9. What is the difference between multithreading and multiprocessing ?\n",
        "   - The difference between multithreading and multiprocessing lies in how they achieve concurrency (running multiple tasks seemingly at the same time) and how they utilize system resources, particularly in Python due to the Global Interpreter Lock (GIL).\n",
        "\n",
        "- Here's a breakdown:\n",
        "\n",
        "Multithreading:\n",
        "\n",
        " - Execution Model: Multithreading involves creating multiple threads within a single process. These threads share the same memory space and resources of the parent process.\n",
        "\n",
        "- Concurrency vs. Parallelism (in Python): In Python, due to the Global Interpreter Lock (GIL), multithreading is primarily used for concurrency, not true parallelism for CPU-bound tasks. The GIL is a mutex that protects access to Python objects, preventing multiple native threads from executing Python bytecode at once. This means that even on multi-core processors, only one thread can execute Python bytecode at a time.\n",
        "\n",
        "    - Concurrency: Tasks appear to run at the same time, but they are actually interleaving their execution. This is useful for I/O-bound tasks (like reading from a file, making network requests, or waiting for user input) where threads can release the GIL while waiting, allowing other threads to run.\n",
        "\n",
        " - Parallelism: Tasks truly run simultaneously on multiple CPU cores. Multithreading in Python is not effective for achieving parallelism for CPU-bound tasks because of the GIL.\n",
        "\n",
        "- Overhead: Creating threads is generally less\n",
        "  resource-intensive than creating processes.\n",
        "\n",
        "- Communication: Threads within the same process can\n",
        "   communicate easily through shared memory. However, this also introduces the risk of race conditions and requires careful synchronization mechanisms (like locks) to ensure data consistency.\n",
        "\n",
        "\n",
        "Multiprocessing:\n",
        "\n",
        "- Execution Model: Multiprocessing involves creating multiple independent processes. Each process has its own memory space and resources, isolated from other processes.\n",
        "\n",
        "- Concurrency and Parallelism: Multiprocessing can achieve both concurrency and true parallelism for CPU-bound tasks. Since each process has its own Python interpreter and memory space, the GIL does not prevent multiple processes from executing Python bytecode simultaneously on different CPU cores.\n",
        "\n",
        "- Overhead: Creating processes is generally more resource-intensive than creating threads due to the need to duplicate the process's memory space.\n",
        "\n",
        "- Communication: Processes communicate using inter-process communication (IPC) mechanisms, such as pipes or queues. Communication is more complex than shared memory but avoids the risks associated with race conditions in multithreading.\n",
        "\n",
        "10. What are the advantages of using logging in a program ?\n",
        "    - Using logging in a program offers several\n",
        "      significant advantages:\n",
        "\n",
        "- Debugging and Troubleshooting: Logging provides a\n",
        "  crucial trail of events that happen during the execution of your program. When unexpected issues or errors occur, log messages help you pinpoint where and why something went wrong [1]. This is especially valuable in production environments where you can't use interactive debuggers.\n",
        "\n",
        "- Understanding Program Behavior: By logging different levels of information (debug, info, warning, error), you can gain insights into how your program is running, the values of variables at different stages, and the flow of execution. This helps you understand the program's state and identify potential problems before they become critical.\n",
        "\n",
        "- Monitoring and Alerting: Log files can be monitored\n",
        "  by automated systems to detect specific events or errors. This enables you to set up alerts for critical issues, allowing you to respond quickly to problems in a production environment.\n",
        "\n",
        "- Performance Analysis: Logging can be used to track\n",
        "  the time taken for different operations or sections of code. This information can be used to identify performance bottlenecks and optimize your program.\n",
        "\n",
        "- Auditing and Security: In some applications, logging\n",
        "  is essential for auditing purposes, providing a record of user actions or system events. This can be important for security analysis and compliance requirements.\n",
        "\n",
        "- Improved Code Readability and Maintainability:\n",
        "  Instead of scattering print statements throughout your code for debugging, using a structured logging system makes your code cleaner and easier to understand. Log messages provide context about what the code is doing.\n",
        "\n",
        "- Flexibility and Control: The Python logging module\n",
        "  provides a flexible framework that allows you to configure where log messages are sent (console, file, network), their format, and their severity level. This gives you fine-grained control over the logging output without modifying the core logic of your program. You can easily adjust the logging level to get more or less detailed information as needed.\n",
        "\n",
        "11. What is memory management in Python ?\n",
        "    - Memory management in Python involves how the\n",
        "      Python interpreter handles the allocation and deallocation of memory for objects. Python has a private heap where all Python objects live. The management of this private heap is done by the Python memory manager.\n",
        "\n",
        "- Key aspects of memory management in Python include:\n",
        "\n",
        "  - Reference Counting: This is the primary mechanism\n",
        "    Python uses for memory management. Every object in Python has a reference count, which is the number of pointers or references that are pointing to that object. When the reference count of an object drops to zero, it means that the object is no longer being used by any part of the program. At this point, the memory occupied by the object can be reclaimed.\n",
        "\n",
        "  - Garbage Collection: While reference counting is\n",
        "    efficient for many cases, it cannot handle circular references. A circular reference occurs when two or more objects refer to each other, creating a cycle, even if they are no longer accessible from other parts of the program. To deal with this, Python has a cyclic garbage collector. This collector periodically identifies and reclaims memory occupied by objects involved in circular references that are no longer reachable.\n",
        "\n",
        "  - Memory Allocation: When you create an object in\n",
        "    Python (e.g., a list, a dictionary, an integer), the Python memory manager allocates the necessary memory from the private heap. The memory is requested directly from the system [1]. Python has specialized allocators for certain types of objects (like integers and strings) to improve performance.\n",
        "\n",
        "  - Memory Deallocation: As mentioned, memory is\n",
        "    deallocated when an object's reference count drops to zero or when the garbage collector identifies unreachable objects. The memory is then returned to the private heap, making it available for future allocations.\n",
        "\n",
        "12. What are the basic steps involved in exception handling in Python ?\n",
        "    - The basic steps involved in exception handling\n",
        "       in Python using the try...except block are as follows:\n",
        "\n",
        "  (1). Identify the code that might raise an\n",
        "       exception: You wrap the code that you anticipate might cause an error within a try block. This is the section of your program where things might go wrong.\n",
        "\n",
        "  (2). Define how to handle the exception: Immediately\n",
        "       following the try block, you use one or more except blocks to specify how to respond if a particular type of exception occurs within the try block. If an exception is raised in the try block, the remaining code in the try block is skipped [1], and Python looks for a matching except block.\n",
        "\n",
        "  (3). Optionally include a finally block for cleanup:\n",
        "       You can optionally include a finally block after the try and except blocks. The code within the finally block will always be executed, regardless of whether an exception occurred or not, or if an exception was caught. This is often used for cleanup operations like closing files or releasing resouces.\n",
        "\n",
        "13. Why is memory management important in Python ?\n",
        "    - Memory management is important in Python for\n",
        "      several key reasons, even though it's largely handled automatically by the interpreter:\n",
        "\n",
        "- Preventing Resource Exhaustion: Programs need memory\n",
        "  to store data and execute instructions. If memory is not managed efficiently, a program can consume excessive amounts of memory, leading to system slowdowns or even crashes due to resource exhaustion. While Python's automatic memory management helps, understanding how it works can help you write code that is more memory-efficient, especially for large datasets or long-running applications.\n",
        "\n",
        "- Avoiding Memory Leaks: Although less common in\n",
        "  Python compared to languages with manual memory management, it's still possible to have memory leaks. A memory leak occurs when a program continuously consumes memory without releasing it when it's no longer needed. This can happen with complex data structures or when dealing with external resources that are not properly closed. Uncontrolled memory growth due to leaks can eventually lead to program instability and failure.\n",
        "\n",
        "- Improving Performance: Efficient memory management\n",
        "  contributes to better program performance. If the memory manager can quickly allocate and deallocate memory, the program will spend less time on these operations and more time on executing its core logic. Understanding Python's memory model can help you choose data structures and algorithms that are optimized for memory usage, leading to faster execution.\n",
        "\n",
        "- Handling Large Datasets: When working with large\n",
        "  datasets, memory usage becomes a critical concern. If your program's memory footprint exceeds the available system memory, it can lead to excessive swapping (moving data between RAM and disk), which significantly degrades performance. Effective memory management is essential for processing large datasets efficiently.\n",
        "\n",
        "- Understanding Program Behavior: While you don't\n",
        "  typically manually manage memory in Python, understanding how Python allocates and deallocates memory can help you reason about your program's behavior, especially when dealing with complex data structures or when profiling for performance issues. It can provide insights into why your program might be using more memory than expected.\n",
        "\n",
        "- Interfacing with C Extensions: When working with C\n",
        "  extensions in Python, manual memory management might be involved on the C side. Understanding Python's memory model is crucial to ensure that memory is handled correctly when passing data between Python and C code. Incorrect handling can lead to memory corruption and crashes [1].\n",
        "\n",
        "14. What is the role of try and except in exception handling ?\n",
        "    - In Python, the try and except blocks are fundamental to handling exceptions:\n",
        "\n",
        "- try block: You place the code that you suspect might\n",
        "  raise an exception inside the try block. Python attempts to execute the code within this block.\n",
        "\n",
        "- except block: If an exception occurs in the try\n",
        "  block, the Python interpreter looks for an except block that matches the type of exception raised. The code within the matching except block is then executed. You can have multiple except blocks to handle different types of exceptions.\n",
        "\n",
        "15. How does Python's garbage collection system work ?\n",
        "    - Python's garbage collection system primarily relies on two mechanisms to manage memory:\n",
        "\n",
        "- Reference Counting: This is the basic and primary mechanism. Every object in Python has a reference count, which tracks how many variables or data structures are referring to that object. When the reference count of an object drops to zero, it means that the object is no longer accessible from anywhere in the program. At this point, the memory occupied by the object is immediately deallocated and returned to the memory pool.\n",
        "\n",
        "- Generational Cyclic Garbage Collector: While reference counting is efficient, it has a limitation: it cannot detect and reclaim memory occupied by objects involved in circular references. A circular reference occurs when two or more objects refer to each other, creating a cycle, even if they are no longer referenced by other parts of the program.\n",
        "\n",
        "\n",
        "16. What is the purpose of the else block in exception handling ?\n",
        "    - he else block in Python's exception handling (try...except...else...finally) serves a specific purpose:\n",
        "\n",
        "   The code within the else block is executed only if no exception occurs in the try block.\n",
        "\n",
        "    It's useful for placing code that should run after the try block has successfully completed, and before the finally block (if one exists). This helps to separate the code that might raise an exception from the code that should only run when the try block was successful.\n",
        "\n",
        "17. What are the common logging levels in Python ?\n",
        "    - In Python's logging module, there are several\n",
        "      common logging levels used to categorize the severity of log messages. These levels help you filter and control which messages are recorded or displayed. The most common logging levels, in increasing order of severity, are:\n",
        "\n",
        "- DEBUG: This level provides detailed information, typically useful only when diagnosing problems.\n",
        "\n",
        "- INFO: This level confirms that things are working as expected.\n",
        "\n",
        "- WARNING: This level indicates that something unexpected happened or might happen in the near future (e.g., 'disk space low'). The software is still working as expected.\n",
        "\n",
        "- ERROR: This level indicates that due to a more serious problem, the software has not been able to perform some function.\n",
        "\n",
        "- CRITICAL: This level indicates a serious error, indicating that the program itself may be unable to continue running.\n",
        "\n",
        "  - These levels have corresponding numeric values, as shown below:\n",
        "\n",
        "         - NOTSET: 0\n",
        "         - DEBUG: 10\n",
        "         - INFO: 20\n",
        "         - WARNING: 30\n",
        "         - ERROR: 40\n",
        "         - CRITICAL: 50\n",
        "\n",
        "By setting the logging level for your application or specific loggers, you can control which messages are processed. For example, if you set the level to INFO, you will see INFO, WARNING, ERROR, and CRITICAL messages, but not DEBUG messages.\n",
        "\n",
        "18.  What is the difference between os.fork() and multiprocessing in Python ?\n",
        "     - os.fork():\n",
        "\n",
        "          - Mechanism: os.fork() is a system call that\n",
        "            creates a new process by duplicating the calling process. The child process is an almost exact copy of the parent process at the time fork() is called. All resources of the parent are inherited by the child.\n",
        "\n",
        "          - Availability: os.fork() is available on\n",
        "            Unix-like systems (Linux, macOS, etc.) but not on Windows.\n",
        "\n",
        "          - Use Cases: os.fork() is a low-level mechanism for creating processes. It's often used when you need fine-grained control over the process creation or when working with system-level programming. However, safely forking a multithreaded process can be problematic [1].\n",
        "\n",
        "          - Complexity: Using os.fork() directly can be more complex as you have to manage communication between processes yourself using low-level mechanisms.\n",
        "\n",
        "   - multiprocessing module:\n",
        "\n",
        "         - Mechanism: The multiprocessing module is a\n",
        "           higher-level library that provides an API for creating and managing processes. It abstracts away some of the complexities of using os.fork() directly. It can use os.fork() on systems where it's available, but it also provides alternative methods for process creation on platforms like Windows.\n",
        "\n",
        "      - Availability: The multiprocessing module is  cross-platform and works on both Unix-like systems and Windows.\n",
        "\n",
        "\n",
        "     - Use Cases: The multiprocessing module is the\n",
        "      recommended way to achieve true parallelism in Python for CPU-bound tasks. It allows you to bypass the Global Interpreter Lock (GIL) because each process has its own Python interpreter and memory space.\n",
        "\n",
        "      - Complexity: The multiprocessing module\n",
        "        provides higher-level abstractions like Process objects, pools of workers, and mechanisms for inter-process communication (like Queues and Pipes), making it easier to manage multiple processes and share data between them.\n",
        "\n",
        "\n",
        "19. What is the importance of closing a file in Python ?\n",
        "    -  The importance of closing a file in Python,\n",
        "      especially when working with file objects obtained using open(), is primarily about resource management and data integrity. Here are the key reasons:\n",
        "\n",
        "- Releasing System Resources: When you open a file,\n",
        "  the operating system allocates resources (like file descriptors) to manage that file. If you don't close the file, these resources remain allocated even after your program might no longer need access to the file. Over time, failing to close files can lead to resource exhaustion, potentially causing your program or even the entire system to become unstable or crash.\n",
        "\n",
        "- Ensuring Data is Written to Disk: When you write\n",
        "  data to a file in Python, the data is often buffered in memory before being physically written to the storage device. Closing the file forces the buffer to be flushed, ensuring that all the written data is actually saved to the file on disk. If you don't close the file, some of the data might remain in the buffer and be lost if the program terminates unexpectedly.\n",
        "\n",
        "- Preventing Data Corruption: If multiple processes or\n",
        "  threads attempt to access and modify the same file concurrently without proper handling, failing to close the file in one process or thread can lead to data corruption or inconsistent data in the file. Closing the file indicates that your program is finished with it, allowing other processes to safely access it if needed.\n",
        "\n",
        "- Unlocking Files (on some systems): On some operating\n",
        "  systems, opening a file can place a lock on it, preventing other programs from accessing or modifying it. Closing the file releases this lock, allowing other programs to interact with the file.\n",
        "\n",
        "20. What is the difference between file.read() and file.readline() in Python ?\n",
        "    - The difference between file.read() and file.\n",
        "      readline() in Python lies in how they read content from a file:\n",
        "\n",
        "- file.read():\n",
        "\n",
        "          - Reads the entire content of the file as a single string.\n",
        "\n",
        "          - You can optionally pass an argument to read() specifying the number of bytes or characters to read.\n",
        "\n",
        "          - If no argument is given, it reads the entire file.\n",
        "\n",
        "           - Example: content = file_object.read()\n",
        "   \n",
        "- file.readline():\n",
        "\n",
        "         - Reads a single line from the file.\n",
        "\n",
        "         - It reads up to and including the newline character (\\n).\n",
        "\n",
        "         - Subsequent calls to readline() will read the next line in the file.\n",
        "\n",
        "         - Example: first_line = file_object.readline()\n",
        "\n",
        "21. What is the logging module in Python used for ?\n",
        "    -  The logging module in Python is a powerful and\n",
        "       flexible framework used for tracking events that happen when your software runs. Its primary purpose is to provide a standardized way to report errors, warnings, informational messages, and debugging details from your program.\n",
        "\n",
        "- Here's a breakdown of what the logging module is\n",
        "  used for:\n",
        "\n",
        "      - Debugging and Troubleshooting: It provides a historical record of program execution, which is invaluable for pinpointing the cause of errors and unexpected behavior, especially in environments where interactive debugging is not possible.\n",
        "\n",
        "      - Understanding Program Behavior: By logging different levels of messages (DEBUG, INFO, WARNING, ERROR, CRITICAL), you can gain insight into the flow of your program and the state of variables at various points.\n",
        "\n",
        "      - Monitoring and Alerting: Log files can be used by monitoring tools to detect critical events or errors and trigger alerts, allowing for proactive responses to issues in production systems.\n",
        "\n",
        "      - Performance Analysis: Logging can be used to time different sections of code or track resource usage, helping to identify performance bottlenecks.\n",
        "\n",
        "      - Auditing and Security: In some applications, logging is required for auditing purposes, providing a record of user actions and system events for security analysis and compliance.\n",
        "\n",
        "22. What is the os module in Python used for in file handling ?\n",
        "     -  The os module in Python provides a way to interact with the operating system. While not exclusively for file content manipulation (like reading and writing data), it plays a significant role in file system operations related to file handling. Here's what the os module is used for in file handling:\n",
        "\n",
        "    (1). Interacting with the File System: The os\n",
        "       module allows you to perform various operations on files and directories within the file system.\n",
        "\n",
        "    - Checking File Existence: os.path.exists(path) checks if a file or directory exists at a given path.\n",
        "\n",
        "   - Getting File Information: os.stat(path) provides detailed information about a file (size, modification time, etc.).\n",
        "\n",
        "   - Renaming and Moving Files: os.rename(src, dst) renames or moves a file or directory.\n",
        "\n",
        "   - Deleting Files: os.remove(path) or os.unlink(path) deletes a file.\n",
        "\n",
        "   - Changing Permissions: os.chmod(path, mode) changes the permissions of a file.\n",
        "\n",
        "    (2). Working with Directories:\n",
        "\n",
        "   - Creating Directories: os.mkdir(path) creates a single directory, and os.makedirs(path) creates directories recursively.\n",
        "\n",
        "   - Listing Directory Contents: os.listdir(path) returns a list of files and directories in a given path.\n",
        "\n",
        "   - Changing the Current Directory: os.chdir(path) changes the current working directory.\n",
        "\n",
        "   - Getting the Current Directory: os.getcwd() returns the current working directory.\n",
        "\n",
        "   - Removing Directories: os.rmdir(path) removes an empty directory, and os.removedirs(path) removes directories recursively.\n",
        "\n",
        "    (3).  Handling File Paths: The os.path submodule is particularly useful for working with file paths in an operating system-independent way.\n",
        "\n",
        "   - Joining Paths: os.path.join(path1, path2, ...) intelligently joins path components.\n",
        "\n",
        "   - Splitting Paths: os.path.split(path) splits a path into a (head, tail) pair.\n",
        "\n",
        "   - Getting Filenames and Extensions: os.path.basename(path) and os.path.splitext(path).\n",
        "\n",
        "23. What are the challenges associated with memory management in Python ?\n",
        "    - While Python's automatic memory management(reference counting and garbage collection) simplifies development by handling memory allocation and deallocation, there are still some challenges and considerations associated with it:\n",
        "\n",
        "  (1).Understanding the Global Interpreter Lock (GIL)\n",
        "      and Memory: The GIL in Python is a mutex that protects access to Python objects, preventing multiple native threads from executing Python bytecode at once. While this is related to thread management, it also indirectly affects memory. Since only one thread can execute at a time, issues with memory-intensive operations or potential memory leaks within a thread can still impact the overall performance and memory usage of a multi-threaded application.\n",
        "\n",
        "  (2).Circular References and the Garbage Collector:\n",
        "      Although Python's cyclic garbage collector handles most circular references, complex scenarios or interactions with external resources (like C extensions) can sometimes create circular references that the collector might not immediately identify or reclaim. This can lead to gradual memory growth.\n",
        "\n",
        "  (3).Memory Leaks (Less Common but Possible): While   Python is less prone to memory leaks than languages with manual memory management, they can still occur. This is often due t\n",
        "\n",
        "24. How do you raise an exception manually in Python ?\n",
        "    - You can raise an exception manually in Python\n",
        "      using the raise keyword. This is useful when you want to indicate that an error condition has occurred in your code.\n",
        "\n",
        "- Here's the basic syntax:\n",
        "\n",
        "- raise ExceptionType(\"Optional error message\")\n",
        "Use code with caution.\n",
        "\n",
        "  - ExceptionType: This is the type of exception you\n",
        "    want to raise (e.g., ValueError, TypeError, FileNotFoundError, or a custom exception class).\n",
        "\n",
        "  - Optional error message\": You can include a string  that provides more details about the error.\n",
        "\n",
        "25. Why is it important to use multithreading in certain applications ?\n",
        "    -  Using multithreading is important in certain\n",
        "       applications, particularly those that involve I/O-bound operations, for several reasons:\n",
        "\n",
        " (1).Improving Responsiveness: In applications with a user interface or that need to remain responsive while waiting for external resources (like network requests, file I/O, or user input), multithreading allows these blocking operations to happen in separate threads. This prevents the main thread (which might be responsible for the UI) from freezing, keeping the application responsive to user interactions.\n",
        "\n",
        " (2).Handling I/O-Bound Tasks Concurrently: Multithreading is very effective for managing multiple I/O-bound tasks concurrently. When a thread is waiting for an I/O operation to complete (e.g., waiting for data from a network socket), it can release the Global Interpreter Lock (GIL) in Python. This allows other threads that are not blocked on I/O to execute Python bytecode. This \" interleaving\" of execution makes I/O-bound tasks appear to run simultaneously, even on a single CPU core.\n",
        "\n",
        " (3).Simplified Design for Concurrent Operations: For certain types of concurrent tasks, structuring the code with threads can be simpler than using other concurrency models like asynchronous programming (which requires an event loop and asynchronous syntax) or multiprocessing (which involves inter-process communication).\n",
        "\n",
        " (4).Resource Sharing: Threads within the same process share the same memory space. This makes it easier for threads to share data compared to processes, which require explicit inter-process communication mechanisms. However, this shared memory also necessitates careful synchronization (using locks, semaphores, etc.) to prevent race conditions and ensure data consistency.\n",
        "\n",
        ""
      ],
      "metadata": {
        "id": "d4pybOcEorMs"
      }
    },
    {
      "cell_type": "markdown",
      "source": [
        "# Practical Questions"
      ],
      "metadata": {
        "id": "doYgb35gPYRR"
      }
    },
    {
      "cell_type": "markdown",
      "source": [
        "Ques 1. How can you open a file for writing in Python and write a string to it ?"
      ],
      "metadata": {
        "id": "2aPsrW8MPeQt"
      }
    },
    {
      "cell_type": "code",
      "source": [
        "# Define the file name and the string you want to write\n",
        "file_name = \"my_output_file.txt\"\n",
        "string_to_write = \"This is a string that will be written to the file.\"\n",
        "\n",
        "# Open the file in write mode ('w') using a with statement\n",
        "# The 'w' mode will create the file if it doesn't exist,\n",
        "# and overwrite its contents if it does exist.\n",
        "try:\n",
        "    with open(file_name, 'w') as file:\n",
        "        # Write the string to the file\n",
        "        file.write(string_to_write)\n",
        "    print(f\"Successfully wrote to '{file_name}'\")\n",
        "\n",
        "except IOError as e:\n",
        "    print(f\"An error occurred while writing to the file: {e}\")"
      ],
      "metadata": {
        "colab": {
          "base_uri": "https://localhost:8080/"
        },
        "id": "UfcbQA0ePkM4",
        "outputId": "118ff2ad-c19a-48cf-e034-482a0c92ba0e"
      },
      "execution_count": 1,
      "outputs": [
        {
          "output_type": "stream",
          "name": "stdout",
          "text": [
            "Successfully wrote to 'my_output_file.txt'\n"
          ]
        }
      ]
    },
    {
      "cell_type": "markdown",
      "source": [
        "Ques 2. Write a Python program to read the contents of a file and print each line."
      ],
      "metadata": {
        "id": "o4T3eMHLP72_"
      }
    },
    {
      "cell_type": "code",
      "source": [
        "# Define the file name you want to read\n",
        "file_name = \"my_output_file.txt\"  # Replace with the actual file name\n",
        "\n",
        "# Open the file in read mode ('r') using a with statement\n",
        "try:\n",
        "    with open(file_name, 'r') as file:\n",
        "        # Read the file line by line\n",
        "        for line in file:\n",
        "            # Print each line. The 'end=\"\"' is used to avoid adding\n",
        "            # an extra newline character since each line already\n",
        "            # includes one (except possibly the last line).\n",
        "            print(line, end=\"\")\n",
        "\n",
        "except FileNotFoundError:\n",
        "    print(f\"Error: The file '{file_name}' was not found.\")\n",
        "except IOError as e:\n",
        "    print(f\"An error occurred while reading the file: {e}\")"
      ],
      "metadata": {
        "colab": {
          "base_uri": "https://localhost:8080/"
        },
        "id": "_pdt1RsPQCDg",
        "outputId": "17eaaff5-48f8-4444-ec14-5232f7759596"
      },
      "execution_count": 2,
      "outputs": [
        {
          "output_type": "stream",
          "name": "stdout",
          "text": [
            "This is a string that will be written to the file."
          ]
        }
      ]
    },
    {
      "cell_type": "markdown",
      "source": [
        "Ques 3. How would you handle a case where the file doesn't exist while trying to open it for reading ?"
      ],
      "metadata": {
        "id": "vVUxVLhCQKgM"
      }
    },
    {
      "cell_type": "code",
      "source": [
        "# Define the file name you want to read\n",
        "file_name = \"non_existent_file.txt\"  # Replace with a file that might not exist\n",
        "\n",
        "try:\n",
        "    # Attempt to open the file in read mode ('r')\n",
        "    with open(file_name, 'r') as file:\n",
        "        # If the file exists and opens successfully, you can read its contents here\n",
        "        print(f\"File '{file_name}' opened successfully. Contents:\")\n",
        "        for line in file:\n",
        "            print(line, end=\"\")\n",
        "\n",
        "except FileNotFoundError:\n",
        "    # If the FileNotFoundError is raised, this block is executed\n",
        "    print(f\"Error: The file '{file_name}' was not found. Please check the file path.\")\n",
        "\n",
        "except IOError as e:\n",
        "    # Catch other potential I/O errors (e.g., permission issues)\n",
        "    print(f\"An unexpected error occurred while trying to open the file: {e}\")\n",
        "\n",
        "print(\"\\nProgram continues after attempting to open the file.\")"
      ],
      "metadata": {
        "colab": {
          "base_uri": "https://localhost:8080/"
        },
        "id": "SNg6U7MTQRmm",
        "outputId": "3c5b7329-2fe4-49e3-8b04-e355392c178a"
      },
      "execution_count": 3,
      "outputs": [
        {
          "output_type": "stream",
          "name": "stdout",
          "text": [
            "Error: The file 'non_existent_file.txt' was not found. Please check the file path.\n",
            "\n",
            "Program continues after attempting to open the file.\n"
          ]
        }
      ]
    },
    {
      "cell_type": "markdown",
      "source": [
        "Ques 4. Write a Python script that reads from one file and writes its content to another file ?"
      ],
      "metadata": {
        "id": "tBrSIqubQY_O"
      }
    },
    {
      "cell_type": "code",
      "source": [
        "# Define the input and output file names\n",
        "input_file_name = \"input.txt\"  # Replace with the name of the file you want to read from\n",
        "output_file_name = \"output.txt\" # Replace with the name of the file you want to write to\n",
        "\n",
        "try:\n",
        "    # Open the input file for reading ('r')\n",
        "    with open(input_file_name, 'r') as infile:\n",
        "        # Open the output file for writing ('w')\n",
        "        # This will create the output file if it doesn't exist,\n",
        "        # and overwrite its contents if it does.\n",
        "        with open(output_file_name, 'w') as outfile:\n",
        "            # Read the content from the input file\n",
        "            file_content = infile.read()\n",
        "\n",
        "            # Write the content to the output file\n",
        "            outfile.write(file_content)\n",
        "\n",
        "    print(f\"Successfully copied content from '{input_file_name}' to '{output_file_name}'.\")\n",
        "\n",
        "except FileNotFoundError:\n",
        "    print(f\"Error: The input file '{input_file_name}' was not found.\")\n",
        "except IOError as e:\n",
        "    print(f\"An error occurred during file processing: {e}\")"
      ],
      "metadata": {
        "colab": {
          "base_uri": "https://localhost:8080/"
        },
        "id": "-vhX8EC6Qhi1",
        "outputId": "e27bfa19-6dcb-4ba6-89d5-cae5a3ab5597"
      },
      "execution_count": 4,
      "outputs": [
        {
          "output_type": "stream",
          "name": "stdout",
          "text": [
            "Error: The input file 'input.txt' was not found.\n"
          ]
        }
      ]
    },
    {
      "cell_type": "markdown",
      "source": [
        "Ques 5. How would you catch and handle division by zero error in Python ?"
      ],
      "metadata": {
        "id": "9zzeEd5PRn4a"
      }
    },
    {
      "cell_type": "code",
      "source": [
        "def safe_division(numerator, denominator):\n",
        "  \"\"\"\n",
        "  Divides numerator by denominator and handles ZeroDivisionError.\n",
        "  \"\"\"\n",
        "  try:\n",
        "    result = numerator / denominator\n",
        "    return result\n",
        "  except ZeroDivisionError:\n",
        "    # This block is executed if a ZeroDivisionError occurs\n",
        "    print(\"Error: Cannot divide by zero!\")\n",
        "    return None # Or raise a different exception, or return a specific value\n",
        "\n",
        "# Example usage:\n",
        "num1 = 10\n",
        "den1 = 2\n",
        "result1 = safe_division(num1, den1)\n",
        "if result1 is not None:\n",
        "  print(f\"{num1} / {den1} = {result1}\")\n",
        "\n",
        "num2 = 5\n",
        "den2 = 0\n",
        "result2 = safe_division(num2, den2)\n",
        "if result2 is not None:\n",
        "  print(f\"{num2} / {den2} = {result2}\")\n",
        "\n",
        "num3 = -7\n",
        "den3 = 3\n",
        "result3 = safe_division(num3, den3)\n",
        "if result3 is not None:\n",
        "  print(f\"{num3} / {den3} = {result3}\")"
      ],
      "metadata": {
        "colab": {
          "base_uri": "https://localhost:8080/"
        },
        "id": "TA3fiOYIRs-i",
        "outputId": "3dff1dba-6c29-4f4f-d778-e77039beb907"
      },
      "execution_count": 5,
      "outputs": [
        {
          "output_type": "stream",
          "name": "stdout",
          "text": [
            "10 / 2 = 5.0\n",
            "Error: Cannot divide by zero!\n",
            "-7 / 3 = -2.3333333333333335\n"
          ]
        }
      ]
    },
    {
      "cell_type": "markdown",
      "source": [
        "Ques 6. Write a Python program that logs an error message to a log file when a division by zero exception occurs ?"
      ],
      "metadata": {
        "id": "X0OMPq2sR-bD"
      }
    },
    {
      "cell_type": "code",
      "source": [
        "import logging\n",
        "\n",
        "# Configure logging\n",
        "logging.basicConfig(filename='division_errors.log', level=logging.ERROR,\n",
        "                    format='%(asctime)s - %(levelname)s - %(message)s')\n",
        "\n",
        "def safe_division_with_logging(numerator, denominator):\n",
        "  \"\"\"\n",
        "  Divides numerator by denominator and logs a ZeroDivisionError if it occurs.\n",
        "  \"\"\"\n",
        "  try:\n",
        "    result = numerator / denominator\n",
        "    return result\n",
        "  except ZeroDivisionError:\n",
        "    # Log the error message to the configured log file\n",
        "    error_message = f\"Attempted division by zero: {numerator} / {denominator}\"\n",
        "    logging.error(error_message)\n",
        "    print(\"Error: Cannot divide by zero. An error has been logged.\")\n",
        "    return None # Or handle the error in another appropriate way\n",
        "\n",
        "# Example usage:\n",
        "num1 = 10\n",
        "den1 = 2\n",
        "result1 = safe_division_with_logging(num1, den1)\n",
        "if result1 is not None:\n",
        "  print(f\"{num1} / {den1} = {result1}\")\n",
        "\n",
        "num2 = 5\n",
        "den2 = 0\n",
        "result2 = safe_division_with_logging(num2, den2)\n",
        "if result2 is not None:\n",
        "  print(f\"{num2} / {den2} = {result2}\")\n",
        "\n",
        "num3 = -7\n",
        "den3 = 3\n",
        "result3 = safe_division_with_logging(num3, den3)\n",
        "if result3 is not None:\n",
        "  print(f\"{num3} / {den3} = {result3}\")\n",
        ""
      ],
      "metadata": {
        "colab": {
          "base_uri": "https://localhost:8080/"
        },
        "id": "LnlXVX8dSDvo",
        "outputId": "17786dd5-283c-4521-a678-c23daed197f9"
      },
      "execution_count": 6,
      "outputs": [
        {
          "output_type": "stream",
          "name": "stderr",
          "text": [
            "ERROR:root:Attempted division by zero: 5 / 0\n"
          ]
        },
        {
          "output_type": "stream",
          "name": "stdout",
          "text": [
            "10 / 2 = 5.0\n",
            "Error: Cannot divide by zero. An error has been logged.\n",
            "-7 / 3 = -2.3333333333333335\n"
          ]
        }
      ]
    },
    {
      "cell_type": "markdown",
      "source": [
        "Ques 7. How do you log information at different levels (INFO, ERROR, WARNING) in Python using the logging module ?"
      ],
      "metadata": {
        "id": "XtOK6WunTJ21"
      }
    },
    {
      "cell_type": "code",
      "source": [
        "import logging\n",
        "\n",
        "# Configure logging (optional but recommended for basic setup)\n",
        "# This sets up a handler to output to the console by default\n",
        "logging.basicConfig(level=logging.DEBUG, format='%(asctime)s - %(levelname)s - %(message)s')\n",
        "\n",
        "# Get a logger instance (it's a good practice to get a logger for your module)\n",
        "logger = logging.getLogger(__name__)\n",
        "\n",
        "# Log messages at different levels\n",
        "logger.debug(\"This is a debug message. (Lowest severity)\")\n",
        "logger.info(\"This is an info message. (Confirming things are working)\")\n",
        "logger.warning(\"This is a warning message. (Something unexpected happened)\")\n",
        "logger.error(\"This is an error message. (A function failed)\")\n",
        "logger.critical(\"This is a critical message. (Program might be unable to continue)\")\n",
        "\n",
        "print(\"\\nCheck the console or configured log file for the output.\")"
      ],
      "metadata": {
        "colab": {
          "base_uri": "https://localhost:8080/"
        },
        "id": "8tgOvO_nTc8t",
        "outputId": "90ae1d6a-62c0-4fce-9128-3e9e38d64468"
      },
      "execution_count": 7,
      "outputs": [
        {
          "output_type": "stream",
          "name": "stderr",
          "text": [
            "WARNING:__main__:This is a warning message. (Something unexpected happened)\n",
            "ERROR:__main__:This is an error message. (A function failed)\n",
            "CRITICAL:__main__:This is a critical message. (Program might be unable to continue)\n"
          ]
        },
        {
          "output_type": "stream",
          "name": "stdout",
          "text": [
            "\n",
            "Check the console or configured log file for the output.\n"
          ]
        }
      ]
    },
    {
      "cell_type": "markdown",
      "source": [
        "Ques 8. Write a program to handle a file opening error using exception handling ?\n"
      ],
      "metadata": {
        "id": "ex0q-uDCT2NA"
      }
    },
    {
      "cell_type": "code",
      "source": [
        "def read_file_safely(file_path):\n",
        "  \"\"\"\n",
        "  Attempts to read a file and handles FileNotFoundError if the file doesn't exist.\n",
        "  \"\"\"\n",
        "  try:\n",
        "    # Attempt to open the file for reading\n",
        "    with open(file_path, 'r') as file:\n",
        "      print(f\"Successfully opened '{file_path}'. Contents:\")\n",
        "      # Read and print the file content\n",
        "      for line in file:\n",
        "        print(line, end=\"\")\n",
        "      print(\"\\nEnd of file content.\")\n",
        "\n",
        "  except FileNotFoundError:\n",
        "    # This block is executed if the specified file does not exist\n",
        "    print(f\"Error: The file '{file_path}' was not found.\")\n",
        "    print(\"Please make sure the file exists and the path is correct.\")\n",
        "\n",
        "  except IOError as e:\n",
        "    # This block catches other potential I/O errors during file operations\n",
        "    print(f\"An unexpected I/O error occurred while accessing '{file_path}': {e}\")\n",
        "\n",
        "  print(\"File handling attempt finished.\")\n",
        "\n",
        "# --- Example Usage ---\n",
        "\n",
        "# Case 1: Trying to open a file that likely exists (if you ran the previous examples)\n",
        "existing_file = \"my_output_file.txt\"\n",
        "print(f\"--- Attempting to read '{existing_file}' ---\")\n",
        "read_file_safely(existing_file)\n",
        "\n",
        "print(\"-\" * 20) # Separator\n",
        "\n",
        "# Case 2: Trying to open a file that definitely does not exist\n",
        "non_existent_file = \"this_file_does_not_exist.txt\"\n",
        "print(f\"--- Attempting to read '{non_existent_file}' ---\")\n",
        "read_file_safely(non_existent_file)"
      ],
      "metadata": {
        "colab": {
          "base_uri": "https://localhost:8080/"
        },
        "id": "P_G_4oAiT9ib",
        "outputId": "b01023c0-4e1c-4932-bda9-d511cbdbe583"
      },
      "execution_count": 8,
      "outputs": [
        {
          "output_type": "stream",
          "name": "stdout",
          "text": [
            "--- Attempting to read 'my_output_file.txt' ---\n",
            "Successfully opened 'my_output_file.txt'. Contents:\n",
            "This is a string that will be written to the file.\n",
            "End of file content.\n",
            "File handling attempt finished.\n",
            "--------------------\n",
            "--- Attempting to read 'this_file_does_not_exist.txt' ---\n",
            "Error: The file 'this_file_does_not_exist.txt' was not found.\n",
            "Please make sure the file exists and the path is correct.\n",
            "File handling attempt finished.\n"
          ]
        }
      ]
    },
    {
      "cell_type": "markdown",
      "source": [
        "Ques 9. How can you read a file line by line and store its content in a list in Python ?"
      ],
      "metadata": {
        "id": "ebkFdlrDUbKJ"
      }
    },
    {
      "cell_type": "code",
      "source": [
        "def read_file_into_list_loop(file_path):\n",
        "  \"\"\"\n",
        "  Reads a file line by line and stores content in a list using a for loop.\n",
        "  \"\"\"\n",
        "  lines_list = []\n",
        "  try:\n",
        "    with open(file_path, 'r') as file:\n",
        "      for line in file:\n",
        "        lines_list.append(line) # Each line includes the newline character\n",
        "\n",
        "  except FileNotFoundError:\n",
        "    print(f\"Error: The file '{file_path}' was not found.\")\n",
        "    return None # Indicate failure\n",
        "\n",
        "  except IOError as e:\n",
        "    print(f\"An error occurred while reading the file: {e}\")\n",
        "    return None # Indicate failure\n",
        "\n",
        "  return lines_list\n",
        "\n",
        "# --- Example Usage ---\n",
        "file_name = \"my_output_file.txt\" # Replace with your file name\n",
        "\n",
        "# Create a dummy file for demonstration if it doesn't exist\n",
        "try:\n",
        "    with open(file_name, 'w') as f:\n",
        "        f.write(\"Line 1\\n\")\n",
        "        f.write(\"Line 2\\n\")\n",
        "        f.write(\"Line 3\\n\")\n",
        "except IOError:\n",
        "    pass # Ignore if file creation fails for this example\n",
        "\n",
        "file_lines = read_file_into_list_loop(file_name)\n",
        "\n",
        "if file_lines is not None:\n",
        "  print(f\"Content of '{file_name}' stored in a list:\")\n",
        "  for i, line in enumerate(file_lines):\n",
        "    print(f\"Line {i+1}: {repr(line)}\") # Use repr to show newline characters"
      ],
      "metadata": {
        "colab": {
          "base_uri": "https://localhost:8080/"
        },
        "id": "t_uZoFAIUhTu",
        "outputId": "b252463b-b632-4b03-c145-ee11b68a9cfe"
      },
      "execution_count": 9,
      "outputs": [
        {
          "output_type": "stream",
          "name": "stdout",
          "text": [
            "Content of 'my_output_file.txt' stored in a list:\n",
            "Line 1: 'Line 1\\n'\n",
            "Line 2: 'Line 2\\n'\n",
            "Line 3: 'Line 3\\n'\n"
          ]
        }
      ]
    },
    {
      "cell_type": "markdown",
      "source": [
        "Ques 10. How can you append data to an existing file in Python ?"
      ],
      "metadata": {
        "id": "33WxC9ymU3VT"
      }
    },
    {
      "cell_type": "code",
      "source": [
        "# Define the file name and the data you want to append\n",
        "file_name = \"my_append_file.txt\"\n",
        "data_to_append = \"\\nThis is a new line appended to the file.\"\n",
        "\n",
        "# Open the file in append mode ('a') using a with statement\n",
        "# The 'a' mode will create the file if it doesn't exist,\n",
        "# and append to the end if it does exist.\n",
        "try:\n",
        "    with open(file_name, 'a') as file:\n",
        "        # Write the data to the file\n",
        "        file.write(data_to_append)\n",
        "\n",
        "    print(f\"Successfully appended data to '{file_name}'\")\n",
        "\n",
        "except IOError as e:\n",
        "    print(f\"An error occurred while appending to the file: {e}\")\n",
        "\n",
        "# You can verify the content by reading the file\n",
        "try:\n",
        "    with open(file_name, 'r') as file:\n",
        "        print(\"\\nContent of the file after appending:\")\n",
        "        print(file.read())\n",
        "except FileNotFoundError:\n",
        "    print(f\"\\nError: '{file_name}' not found after attempting to append.\")\n",
        "except IOError as e:\n",
        "    print(f\"\\nAn error occurred while reading '{file_name}': {e}\")"
      ],
      "metadata": {
        "colab": {
          "base_uri": "https://localhost:8080/"
        },
        "id": "KVxkSFl2U-nL",
        "outputId": "a20e8c8a-128c-47a1-c411-261ca9ce07fc"
      },
      "execution_count": 10,
      "outputs": [
        {
          "output_type": "stream",
          "name": "stdout",
          "text": [
            "Successfully appended data to 'my_append_file.txt'\n",
            "\n",
            "Content of the file after appending:\n",
            "\n",
            "This is a new line appended to the file.\n"
          ]
        }
      ]
    },
    {
      "cell_type": "markdown",
      "source": [
        "Ques 11. Write a Python program that uses a try-except block to handle an error when attempting to access a\n",
        "dictionary key that doesn't exist ?"
      ],
      "metadata": {
        "id": "1Aohusu5WOTe"
      }
    },
    {
      "cell_type": "code",
      "source": [
        "def get_dictionary_value(dictionary, key):\n",
        "  \"\"\"\n",
        "  Attempts to get a value from a dictionary by key and handles KeyError.\n",
        "  \"\"\"\n",
        "  try:\n",
        "    value = dictionary[key]\n",
        "    print(f\"Successfully retrieved value for key '{key}': {value}\")\n",
        "    return value\n",
        "\n",
        "  except KeyError:\n",
        "    # This block is executed if the key is not found in the dictionary\n",
        "    print(f\"Error: Key '{key}' not found in the dictionary.\")\n",
        "    return None # Indicate that the key was not found\n",
        "\n",
        "# --- Example Usage ---\n",
        "\n",
        "# A sample dictionary\n",
        "my_dict = {\n",
        "    \"apple\": 1,\n",
        "    \"banana\": 2,\n",
        "    \"cherry\": 3\n",
        "}\n",
        "\n",
        "# Case 1: Accessing an existing key\n",
        "existing_key = \"banana\"\n",
        "print(f\"--- Attempting to access key '{existing_key}' ---\")\n",
        "get_dictionary_value(my_dict, existing_key)\n",
        "\n",
        "print(\"-\" * 20) # Separator\n",
        "\n",
        "# Case 2: Attempting to access a non-existent key\n",
        "non_existent_key = \"grape\"\n",
        "print(f\"--- Attempting to access key '{non_existent_key}' ---\")\n",
        "get_dictionary_value(my_dict, non_existent_key)\n",
        "\n",
        "print(\"-\" * 20) # Separator\n",
        "\n",
        "# Another existing key\n",
        "another_existing_key = \"apple\"\n",
        "print(f\"--- Attempting to access key '{another_existing_key}' ---\")\n",
        "get_dictionary_value(my_dict, another_existing_key)"
      ],
      "metadata": {
        "colab": {
          "base_uri": "https://localhost:8080/"
        },
        "id": "nMHXRwfKWW2x",
        "outputId": "f1054e70-a137-42e1-95d9-246a746147d6"
      },
      "execution_count": 11,
      "outputs": [
        {
          "output_type": "stream",
          "name": "stdout",
          "text": [
            "--- Attempting to access key 'banana' ---\n",
            "Successfully retrieved value for key 'banana': 2\n",
            "--------------------\n",
            "--- Attempting to access key 'grape' ---\n",
            "Error: Key 'grape' not found in the dictionary.\n",
            "--------------------\n",
            "--- Attempting to access key 'apple' ---\n",
            "Successfully retrieved value for key 'apple': 1\n"
          ]
        },
        {
          "output_type": "execute_result",
          "data": {
            "text/plain": [
              "1"
            ]
          },
          "metadata": {},
          "execution_count": 11
        }
      ]
    },
    {
      "cell_type": "markdown",
      "source": [
        "Ques 12. Write a program that demonstrates using multiple except blocks to handle different types of exceptions ?"
      ],
      "metadata": {
        "id": "tqYOu_fJWdPX"
      }
    },
    {
      "cell_type": "code",
      "source": [
        "def perform_operation(a, b, operation):\n",
        "  \"\"\"\n",
        "  Performs an operation based on the 'operation' string and handles different errors.\n",
        "  \"\"\"\n",
        "  try:\n",
        "    if operation == \"divide\":\n",
        "      result = a / b\n",
        "      print(f\"Division result: {result}\")\n",
        "    elif operation == \"add\":\n",
        "      result = a + b\n",
        "      print(f\"Addition result: {result}\")\n",
        "    else:\n",
        "      print(\"Unknown operation specified.\")\n",
        "      return None\n",
        "\n",
        "  except ZeroDivisionError:\n",
        "    # This block handles division by zero errors\n",
        "    print(\"Error: Cannot perform division by zero.\")\n",
        "    return None\n",
        "\n",
        "  except TypeError:\n",
        "    # This block handles type errors (e.g., trying to divide strings)\n",
        "    print(\"Error: Invalid types for the operation.\")\n",
        "    print(\"Please ensure you are providing numeric values.\")\n",
        "    return None\n",
        "\n",
        "  except Exception as e:\n",
        "    # This is a general exception handler for any other unexpected errors\n",
        "    print(f\"An unexpected error occurred: {e}\")\n",
        "    return None\n",
        "\n",
        "  return result\n",
        "\n",
        "# --- Example Usage ---\n",
        "\n",
        "# Case 1: Successful operation (addition)\n",
        "print(\"--- Performing Addition ---\")\n",
        "perform_operation(5, 3, \"add\")\n",
        "\n",
        "print(\"-\" * 20) # Separator\n",
        "\n",
        "# Case 2: Handling ZeroDivisionError\n",
        "print(\"--- Performing Division with Zero ---\")\n",
        "perform_operation(10, 0, \"divide\")\n",
        "\n",
        "print(\"-\" * 20) # Separator\n",
        "\n",
        "# Case 3: Handling TypeError\n",
        "print(\"--- Performing Division with Invalid Types ---\")\n",
        "perform_operation(10, \"2\", \"divide\")\n",
        "\n",
        "print(\"-\" * 20) # Separator\n",
        "\n",
        "# Case 4: Unknown operation (no exception, just conditional logic)\n",
        "print(\"--- Performing Unknown Operation ---\")\n",
        "perform_operation(5, 5, \"multiply\")"
      ],
      "metadata": {
        "colab": {
          "base_uri": "https://localhost:8080/"
        },
        "id": "5MhdLZqNWjSx",
        "outputId": "df091c21-fdf3-471b-a738-f495869d0911"
      },
      "execution_count": 12,
      "outputs": [
        {
          "output_type": "stream",
          "name": "stdout",
          "text": [
            "--- Performing Addition ---\n",
            "Addition result: 8\n",
            "--------------------\n",
            "--- Performing Division with Zero ---\n",
            "Error: Cannot perform division by zero.\n",
            "--------------------\n",
            "--- Performing Division with Invalid Types ---\n",
            "Error: Invalid types for the operation.\n",
            "Please ensure you are providing numeric values.\n",
            "--------------------\n",
            "--- Performing Unknown Operation ---\n",
            "Unknown operation specified.\n"
          ]
        }
      ]
    },
    {
      "cell_type": "markdown",
      "source": [
        "Ques 13. How would you check if a file exists before attempting to read it in Python ?"
      ],
      "metadata": {
        "id": "EUOrCYxuWvWB"
      }
    },
    {
      "cell_type": "code",
      "source": [
        "import os\n",
        "\n",
        "def read_file_if_exists(file_path):\n",
        "  \"\"\"\n",
        "  Checks if a file exists before attempting to read it.\n",
        "  \"\"\"\n",
        "  # Check if the file exists using os.path.exists()\n",
        "  if os.path.exists(file_path):\n",
        "    print(f\"File '{file_path}' exists. Attempting to read...\")\n",
        "    try:\n",
        "      # Open and read the file if it exists\n",
        "      with open(file_path, 'r') as file:\n",
        "        print(\"File contents:\")\n",
        "        print(file.read())\n",
        "    except IOError as e:\n",
        "      print(f\"An error occurred while reading the file: {e}\")\n",
        "  else:\n",
        "    # If the file does not exist\n",
        "    print(f\"Error: File '{file_path}' not found. Cannot read.\")\n",
        "\n",
        "# --- Example Usage ---\n",
        "\n",
        "# Case 1: Checking for a file that likely exists (if you've created one)\n",
        "existing_file = \"my_output_file.txt\"\n",
        "print(f\"--- Checking for '{existing_file}' ---\")\n",
        "read_file_if_exists(existing_file)\n",
        "\n",
        "print(\"-\" * 20) # Separator\n",
        "\n",
        "# Case 2: Checking for a file that definitely does not exist\n",
        "non_existent_file = \"another_non_existent_file.txt\"\n",
        "print(f\"--- Checking for '{non_existent_file}' ---\")\n",
        "read_file_if_exists(non_existent_file)"
      ],
      "metadata": {
        "colab": {
          "base_uri": "https://localhost:8080/"
        },
        "id": "AAqEE3apW0t1",
        "outputId": "0ee8b8c5-3444-461e-e11b-f067872add4b"
      },
      "execution_count": 13,
      "outputs": [
        {
          "output_type": "stream",
          "name": "stdout",
          "text": [
            "--- Checking for 'my_output_file.txt' ---\n",
            "File 'my_output_file.txt' exists. Attempting to read...\n",
            "File contents:\n",
            "Line 1\n",
            "Line 2\n",
            "Line 3\n",
            "\n",
            "--------------------\n",
            "--- Checking for 'another_non_existent_file.txt' ---\n",
            "Error: File 'another_non_existent_file.txt' not found. Cannot read.\n"
          ]
        }
      ]
    },
    {
      "cell_type": "markdown",
      "source": [
        "Ques 14. Write a program that uses the logging module to log both informational and error messages ?"
      ],
      "metadata": {
        "id": "9aLQFz5gW59Y"
      }
    },
    {
      "cell_type": "code",
      "source": [
        "import logging\n",
        "\n",
        "# Configure logging\n",
        "# Set the level to INFO to see both INFO and ERROR messages (and higher)\n",
        "logging.basicConfig(level=logging.INFO,\n",
        "                    format='%(asctime)s - %(levelname)s - %(message)s')\n",
        "\n",
        "# Get a logger instance\n",
        "logger = logging.getLogger(__name__)\n",
        "\n",
        "def process_data(data):\n",
        "  \"\"\"\n",
        "  Processes data and logs informational and error messages.\n",
        "  \"\"\"\n",
        "  if data is None:\n",
        "    # Log an error if the data is invalid\n",
        "    logger.error(\"Invalid data received: Data is None.\")\n",
        "    print(\"Processing failed due to invalid data.\")\n",
        "    return False\n",
        "\n",
        "  try:\n",
        "    # Log an informational message before processing\n",
        "    logger.info(f\"Starting data processing for: {data}\")\n",
        "\n",
        "    # Simulate some processing that might fail\n",
        "    if isinstance(data, int) and data == 0:\n",
        "        raise ValueError(\"Cannot process data with value 0.\")\n",
        "\n",
        "    # Log an informational message upon successful processing\n",
        "    logger.info(\"Data processing completed successfully.\")\n",
        "    print(\"Processing successful.\")\n",
        "    return True\n",
        "\n",
        "  except ValueError as e:\n",
        "    # Log a specific error if a ValueError occurs during processing\n",
        "    logger.error(f\"ValueError during data processing: {e}\")\n",
        "    print(\"Processing failed due to a value error.\")\n",
        "    return False\n",
        "  except Exception as e:\n",
        "    # Log a general error for any other unexpected exceptions\n",
        "    logger.error(f\"An unexpected error occurred during processing: {e}\")\n",
        "    print(\"Processing failed due to an unexpected error.\")\n",
        "    return False\n",
        "\n",
        "# --- Example Usage ---\n",
        "\n",
        "# Case 1: Successful processing (INFO logs will be shown)\n",
        "print(\"--- Processing valid data ---\")\n",
        "process_data(\"some valid input\")\n",
        "\n",
        "print(\"-\" * 20) # Separator\n",
        "\n",
        "# Case 2: Processing with invalid data (ERROR log for None)\n",
        "print(\"--- Processing invalid data (None) ---\")\n",
        "process_data(None)\n",
        "\n",
        "print(\"-\" * 20) # Separator\n",
        "\n",
        "# Case 3: Processing with a value that causes a ValueError (ERROR log)\n",
        "print(\"--- Processing data causing ValueError ---\")\n",
        "process_data(0)"
      ],
      "metadata": {
        "colab": {
          "base_uri": "https://localhost:8080/"
        },
        "id": "i5R2vXQtXA2e",
        "outputId": "d4aa1891-4857-4f6c-d200-762a1eb56868"
      },
      "execution_count": 14,
      "outputs": [
        {
          "output_type": "stream",
          "name": "stderr",
          "text": [
            "ERROR:__main__:Invalid data received: Data is None.\n",
            "ERROR:__main__:ValueError during data processing: Cannot process data with value 0.\n"
          ]
        },
        {
          "output_type": "stream",
          "name": "stdout",
          "text": [
            "--- Processing valid data ---\n",
            "Processing successful.\n",
            "--------------------\n",
            "--- Processing invalid data (None) ---\n",
            "Processing failed due to invalid data.\n",
            "--------------------\n",
            "--- Processing data causing ValueError ---\n",
            "Processing failed due to a value error.\n"
          ]
        },
        {
          "output_type": "execute_result",
          "data": {
            "text/plain": [
              "False"
            ]
          },
          "metadata": {},
          "execution_count": 14
        }
      ]
    },
    {
      "cell_type": "markdown",
      "source": [
        "Ques 15. Write a Python program that prints the content of a file and handles the case when the file is empty ?"
      ],
      "metadata": {
        "id": "90IlkHLUXOcO"
      }
    },
    {
      "cell_type": "code",
      "source": [
        "import os\n",
        "\n",
        "def print_file_content_with_empty_check(file_path):\n",
        "  \"\"\"\n",
        "  Prints the content of a file and handles the case when the file is empty.\n",
        "  \"\"\"\n",
        "  try:\n",
        "    # Check if the file exists first (optional but good practice)\n",
        "    if not os.path.exists(file_path):\n",
        "      print(f\"Error: File '{file_path}' not found.\")\n",
        "      return\n",
        "\n",
        "    # Open the file for reading\n",
        "    with open(file_path, 'r') as file:\n",
        "      # Read the entire content of the file\n",
        "      content = file.read()\n",
        "\n",
        "      # Check if the content is empty\n",
        "      if not content:  # An empty string evaluates to False in a boolean context\n",
        "        print(f\"File '{file_path}' is empty.\")\n",
        "      else:\n",
        "        print(f\"Content of '{file_path}':\")\n",
        "        print(content) # Print the entire content\n",
        "\n",
        "  except IOError as e:\n",
        "    # Handle other potential I/O errors during reading\n",
        "    print(f\"An error occurred while reading the file '{file_path}': {e}\")\n",
        "\n",
        "# --- Example Usage ---\n",
        "\n",
        "# Case 1: Create a dummy file with content\n",
        "file_with_content = \"file_with_content.txt\"\n",
        "try:\n",
        "    with open(file_with_content, \"w\") as f:\n",
        "        f.write(\"This file has some content.\\n\")\n",
        "        f.write(\"Another line here.\")\n",
        "except IOError:\n",
        "    pass # Ignore if file creation fails\n",
        "\n",
        "print(f\"--- Printing content of '{file_with_content}' ---\")\n",
        "print_file_content_with_empty_check(file_with_content)\n",
        "\n",
        "print(\"-\" * 20) # Separator\n",
        "\n",
        "# Case 2: Create a dummy empty file\n",
        "empty_file = \"empty_file.txt\"\n",
        "try:\n",
        "    with open(empty_file, \"w\") as f:\n",
        "        pass # Open and immediately close, resulting in an empty file\n",
        "except IOError:\n",
        "    pass # Ignore if file creation fails\n",
        "\n"
      ],
      "metadata": {
        "colab": {
          "base_uri": "https://localhost:8080/"
        },
        "id": "wj33gK5-XT_F",
        "outputId": "b570177f-e1fe-4172-c6a9-f0a22ee6ac58"
      },
      "execution_count": 15,
      "outputs": [
        {
          "output_type": "stream",
          "name": "stdout",
          "text": [
            "--- Printing content of 'file_with_content.txt' ---\n",
            "Content of 'file_with_content.txt':\n",
            "This file has some content.\n",
            "Another line here.\n",
            "--------------------\n"
          ]
        }
      ]
    },
    {
      "cell_type": "markdown",
      "source": [
        "Ques 16. Demonstrate how to use memory profiling to check the memory usage of a small program ?\n"
      ],
      "metadata": {
        "id": "upCmvF4lXbjX"
      }
    },
    {
      "cell_type": "code",
      "source": [
        "!pip install memory-profiler"
      ],
      "metadata": {
        "colab": {
          "base_uri": "https://localhost:8080/"
        },
        "id": "DkaOdNUjXiMX",
        "outputId": "2c136fa5-af99-426d-8516-e45741edeb25"
      },
      "execution_count": 16,
      "outputs": [
        {
          "output_type": "stream",
          "name": "stdout",
          "text": [
            "Collecting memory-profiler\n",
            "  Downloading memory_profiler-0.61.0-py3-none-any.whl.metadata (20 kB)\n",
            "Requirement already satisfied: psutil in /usr/local/lib/python3.11/dist-packages (from memory-profiler) (5.9.5)\n",
            "Downloading memory_profiler-0.61.0-py3-none-any.whl (31 kB)\n",
            "Installing collected packages: memory-profiler\n",
            "Successfully installed memory-profiler-0.61.0\n"
          ]
        }
      ]
    },
    {
      "cell_type": "markdown",
      "source": [
        "Ques 17. Write a Python program to create and write a list of numbers to a file, one number per line ?"
      ],
      "metadata": {
        "id": "NMuzKbtKX3ek"
      }
    },
    {
      "cell_type": "code",
      "source": [
        "# Define the list of numbers\n",
        "numbers = [10, 25, 5, 42, 18, 99, 7, 33]\n",
        "\n",
        "# Define the file name\n",
        "file_name = \"numbers_list.txt\"\n",
        "\n",
        "# Open the file for writing ('w') using a with statement\n",
        "# This will create the file if it doesn't exist, and overwrite if it does.\n",
        "try:\n",
        "    with open(file_name, 'w') as file:\n",
        "        # Iterate through the list of numbers\n",
        "        for number in numbers:\n",
        "            # Convert the number to a string and write it to the file, followed by a newline\n",
        "            file.write(str(number) + '\\n')\n",
        "\n",
        "    print(f\"Successfully wrote the list of numbers to '{file_name}'\")\n",
        "\n",
        "except IOError as e:\n",
        "    print(f\"An error occurred while writing to the file: {e}\")\n",
        "\n",
        "# Optional: Read the file back to verify the content\n",
        "try:\n",
        "    with open(file_name, 'r') as file:\n",
        "        print(\"\\nContent of the created file:\")\n",
        "        print(file.read())\n",
        "except FileNotFoundError:\n",
        "    print(f\"\\nError: Verification failed, file '{file_name}' not found.\")\n",
        "except IOError as e:\n",
        "    print(f\"\\nAn error occurred while reading '{file_name}' for verification: {e}\")"
      ],
      "metadata": {
        "colab": {
          "base_uri": "https://localhost:8080/"
        },
        "id": "CweunRXzX8CG",
        "outputId": "6989f2c5-61d5-4966-fa2f-26304210f528"
      },
      "execution_count": 17,
      "outputs": [
        {
          "output_type": "stream",
          "name": "stdout",
          "text": [
            "Successfully wrote the list of numbers to 'numbers_list.txt'\n",
            "\n",
            "Content of the created file:\n",
            "10\n",
            "25\n",
            "5\n",
            "42\n",
            "18\n",
            "99\n",
            "7\n",
            "33\n",
            "\n"
          ]
        }
      ]
    },
    {
      "cell_type": "markdown",
      "source": [
        "Ques15. How would you implement a basic logging setup that logs to a file with rotation after 1MB ?"
      ],
      "metadata": {
        "id": "62YypfWKYBvv"
      }
    },
    {
      "cell_type": "code",
      "source": [
        "import logging\n",
        "import logging.handlers\n",
        "import os\n",
        "\n",
        "# Define the log file name and properties\n",
        "log_file_name = \"rotating_log.log\"\n",
        "max_bytes = 1 * 1024 * 1024 # 1 MB (1 * 1024 bytes/KB * 1024 KB/MB)\n",
        "backup_count = 5 # Keep up to 5 old log files\n",
        "\n",
        "# Create a logger\n",
        "logger = logging.getLogger(\"my_rotating_logger\")\n",
        "logger.setLevel(logging.INFO) # Set the minimum level for this logger\n",
        "\n",
        "# Create a RotatingFileHandler\n",
        "# This handler writes to a file and rotates it when it reaches max_bytes\n",
        "# It keeps up to backup_count previous log files\n",
        "handler = logging.handlers.RotatingFileHandler(\n",
        "    log_file_name,\n",
        "    maxBytes=max_bytes,\n",
        "    backupCount=backup_count\n",
        ")\n",
        "\n",
        "# Create a formatter to define the log message format\n",
        "formatter = logg.Formatter('%(asctime)s - %(name)s - %(levelname)s - %(message)s')\n",
        "\n",
        "# Set the formatter for the handler\n",
        "handler.setFormatter(formatter)\n",
        "\n",
        "# Add the handler to the logger\n",
        "logger.addHandler(handler)\n",
        "\n",
        "# --- Demonstrate logging ---\n",
        "\n",
        "print(f\"Logging to {log_file_name} with rotation after {max_bytes} bytes ({max_bytes / (1024*1024):.2f} MB)\")\n",
        "print(f\"Keeping up to {backup_count} backup files.\")\n",
        "\n",
        "# Log some messages (you can run this multiple times to trigger rotation)\n",
        "for i in range(20000): # Log enough messages to likely exceed 1MB\n",
        "    logger.info(f\"This is informational message number {i + 1}\")\n",
        "    if (i + 1) % 5000 == 0:\n",
        "        logger.warning(f\"This is a warning message at iteration {i + 1}\")\n",
        "\n",
        "print(\"\\nFinished logging messages.\")\n",
        "print(f\"Check the directory for log files starting with '{log_file_name}'.\")"
      ],
      "metadata": {
        "colab": {
          "base_uri": "https://localhost:8080/",
          "height": 211
        },
        "collapsed": true,
        "id": "JT_gTQcwYJS2",
        "outputId": "68c720bb-4723-4355-91c9-05b347ef5771"
      },
      "execution_count": 19,
      "outputs": [
        {
          "output_type": "error",
          "ename": "NameError",
          "evalue": "name 'logg' is not defined",
          "traceback": [
            "\u001b[0;31m---------------------------------------------------------------------------\u001b[0m",
            "\u001b[0;31mNameError\u001b[0m                                 Traceback (most recent call last)",
            "\u001b[0;32m<ipython-input-19-c2abc12eb3e0>\u001b[0m in \u001b[0;36m<cell line: 0>\u001b[0;34m()\u001b[0m\n\u001b[1;32m     22\u001b[0m \u001b[0;34m\u001b[0m\u001b[0m\n\u001b[1;32m     23\u001b[0m \u001b[0;31m# Create a formatter to define the log message format\u001b[0m\u001b[0;34m\u001b[0m\u001b[0;34m\u001b[0m\u001b[0m\n\u001b[0;32m---> 24\u001b[0;31m \u001b[0mformatter\u001b[0m \u001b[0;34m=\u001b[0m \u001b[0mlogg\u001b[0m\u001b[0;34m.\u001b[0m\u001b[0mFormatter\u001b[0m\u001b[0;34m(\u001b[0m\u001b[0;34m'%(asctime)s - %(name)s - %(levelname)s - %(message)s'\u001b[0m\u001b[0;34m)\u001b[0m\u001b[0;34m\u001b[0m\u001b[0;34m\u001b[0m\u001b[0m\n\u001b[0m\u001b[1;32m     25\u001b[0m \u001b[0;34m\u001b[0m\u001b[0m\n\u001b[1;32m     26\u001b[0m \u001b[0;31m# Set the formatter for the handler\u001b[0m\u001b[0;34m\u001b[0m\u001b[0;34m\u001b[0m\u001b[0m\n",
            "\u001b[0;31mNameError\u001b[0m: name 'logg' is not defined"
          ]
        }
      ]
    },
    {
      "cell_type": "markdown",
      "source": [
        "Ques 19. Write a program that handles both IndexError and KeyError using a try-except block ?"
      ],
      "metadata": {
        "id": "dVFt9VKLY7rY"
      }
    },
    {
      "cell_type": "code",
      "source": [
        "def access_data_multiple_excepts(data, key_or_index):\n",
        "  \"\"\"\n",
        "  Attempts to access data by key or index and handles KeyError and IndexError\n",
        "  using separate except blocks.\n",
        "  \"\"\"\n",
        "  try:\n",
        "    if isinstance(data, dict):\n",
        "      # Attempt to access a dictionary key\n",
        "      value = data[key_or_index]\n",
        "      print(f\"Accessed dictionary key '{key_or_index}': {value}\")\n",
        "    elif isinstance(data, list):\n",
        "      # Attempt to access a list index\n",
        "      value = data[key_or_index]\n",
        "      print(f\"Accessed list index {key_or_index}: {value}\")\n",
        "    else:\n",
        "      print(\"Data is not a dictionary or list.\")\n",
        "      return None\n",
        "\n",
        "  except KeyError:\n",
        "    # Handles KeyError when accessing a dictionary with a non-existent key\n",
        "    print(f\"Error: KeyError - Key '{key_or_index}' not found in the dictionary.\")\n",
        "    return None\n",
        "\n",
        "  except IndexError:\n",
        "    # Handles IndexError when accessing a list with an invalid index\n",
        "    print(f\"Error: IndexError - Index {key_or_index} is out of range for the list.\")\n",
        "    return None\n",
        "\n",
        "  except Exception as e:\n",
        "    # Catches any other unexpected exceptions\n",
        "    print(f\"An unexpected error occurred: {e}\")\n",
        "    return None\n",
        "\n",
        "  return value\n",
        "\n",
        "# --- Example Usage ---\n",
        "\n",
        "my_dict = {\"a\": 1, \"b\": 2}\n",
        "my_list = [10, 20, 30]\n",
        "\n",
        "print(\"--- Using Multiple Except Blocks ---\")\n",
        "\n",
        "# Case 1: Dictionary with existing key\n",
        "access_data_multiple_excepts(my_dict, \"a\")\n",
        "\n",
        "print(\"-\" * 20)\n",
        "\n",
        "# Case 2: Dictionary with non-existent key (KeyError)\n",
        "access_data_multiple_excepts(my_dict, \"c\")\n",
        "\n",
        "print(\"-\" * 20)\n",
        "\n",
        "# Case 3: List with valid index\n",
        "access_data_multiple_excepts(my_list, 1)\n",
        "\n",
        "print(\"-\" * 20)\n",
        "\n",
        "# Case 4: List with invalid index (IndexError)\n",
        "access_data_multiple_excepts(my_list, 5)\n",
        "\n",
        "print(\"-\" * 20)\n",
        "\n",
        "# Case 5: Invalid data type\n",
        "access_data_multiple_excepts(\"hello\", \"h\")"
      ],
      "metadata": {
        "colab": {
          "base_uri": "https://localhost:8080/"
        },
        "id": "C6MP3gUtZAee",
        "outputId": "8d4b793c-9553-4366-d928-8c0288aeeba3"
      },
      "execution_count": 20,
      "outputs": [
        {
          "output_type": "stream",
          "name": "stdout",
          "text": [
            "--- Using Multiple Except Blocks ---\n",
            "Accessed dictionary key 'a': 1\n",
            "--------------------\n",
            "Error: KeyError - Key 'c' not found in the dictionary.\n",
            "--------------------\n",
            "Accessed list index 1: 20\n",
            "--------------------\n",
            "Error: IndexError - Index 5 is out of range for the list.\n",
            "--------------------\n",
            "Data is not a dictionary or list.\n"
          ]
        }
      ]
    },
    {
      "cell_type": "markdown",
      "source": [
        "Ques 20. How would you open a file and read its contents using a context manager in Python ?"
      ],
      "metadata": {
        "id": "mLYrhM5tZyM-"
      }
    },
    {
      "cell_type": "code",
      "source": [
        "def read_file_with_context_manager(file_path):\n",
        "  \"\"\"\n",
        "  Opens and reads a file using a context manager (with statement).\n",
        "  \"\"\"\n",
        "  try:\n",
        "    # Use the 'with' statement to open the file in read mode ('r')\n",
        "    with open(file_path, 'r') as file:\n",
        "      # The file is automatically closed when the 'with' block is exited.\n",
        "      print(f\"File '{file_path}' opened successfully.\")\n",
        "\n",
        "      # Read the entire content of the file\n",
        "      content = file.read()\n",
        "\n",
        "      print(\"\\nFile contents:\")\n",
        "      print(content)\n",
        "\n",
        "  except FileNotFoundError:\n",
        "    print(f\"Error: The file '{file_path}' was not found.\")\n",
        "\n",
        "  except IOError as e:\n",
        "    print(f\"An error occurred while reading the file: {e}\")\n",
        "\n",
        "# --- Example Usage ---\n",
        "\n",
        "# Create a dummy file for demonstration\n",
        "file_name = \"my_context_file.txt\"\n",
        "try:\n",
        "    with open(file_name, \"w\") as f:\n",
        "        f.write(\"This is the first line.\\n\")\n",
        "        f.write(\"This is the second line.\\n\")\n",
        "except IOError:\n",
        "    pass # Ignore if file creation fails\n",
        "\n",
        "print(f\"--- Reading '{file_name}' using a context manager ---\")\n",
        "read_file_with_context_manager(file_name)\n",
        "\n",
        "print(\"-\" * 20)\n",
        "\n",
        "# Attempting to read a non-existent file\n",
        "non_existent_file = \"non_existent_context_file.txt\"\n",
        "print(f\"--- Attempting to read '{non_existent_file}' using a context manager ---\")\n",
        "read_file_with_context_manager(non_existent_file)"
      ],
      "metadata": {
        "colab": {
          "base_uri": "https://localhost:8080/"
        },
        "id": "mzKExEGwZ3Ov",
        "outputId": "ff037bc7-bff3-4f0c-ec20-11c7089fa926"
      },
      "execution_count": 21,
      "outputs": [
        {
          "output_type": "stream",
          "name": "stdout",
          "text": [
            "--- Reading 'my_context_file.txt' using a context manager ---\n",
            "File 'my_context_file.txt' opened successfully.\n",
            "\n",
            "File contents:\n",
            "This is the first line.\n",
            "This is the second line.\n",
            "\n",
            "--------------------\n",
            "--- Attempting to read 'non_existent_context_file.txt' using a context manager ---\n",
            "Error: The file 'non_existent_context_file.txt' was not found.\n"
          ]
        }
      ]
    },
    {
      "cell_type": "markdown",
      "source": [
        "Ques 21. Write a Python program that reads a file and prints the number of occurrences of a specific word ?"
      ],
      "metadata": {
        "id": "5WpOZnu1aHKX"
      }
    },
    {
      "cell_type": "code",
      "source": [
        "import re # Import the regular expression module\n",
        "\n",
        "def count_word_occurrences(file_path, word_to_count):\n",
        "  \"\"\"\n",
        "  Reads a file and counts the occurrences of a specific word.\n",
        "  \"\"\"\n",
        "  count = 0\n",
        "  # Make the search case-insensitive\n",
        "  word_to_count_lower = word_to_count.lower()\n",
        "\n",
        "  try:\n",
        "    with open(file_path, 'r', encoding='utf-8') as file: # Use utf-8 encoding\n",
        "      # Read the entire content of the file\n",
        "      content = file.read()\n",
        "\n",
        "      # Convert the entire content to lowercase for case-insensitive counting\n",
        "      content_lower = content.lower()\n",
        "\n",
        "      # Use regular expressions to find word occurrences.\n",
        "      # \\b matches word boundaries to avoid counting substrings within words.\n",
        "      # re.findall returns a list of all matches.\n",
        "      matches = re.findall(r'\\b' + re.escape(word_to_count_lower) + r'\\b', content_lower)\n",
        "      count = len(matches)\n",
        "\n",
        "  except FileNotFoundError:\n",
        "    print(f\"Error: The file '{file_path}' was not found.\")\n",
        "    return -1 # Indicate an error\n",
        "\n",
        "  except IOError as e:\n",
        "    print(f\"An error occurred while reading the file: {e}\")\n",
        "    return -1 # Indicate an error\n",
        "\n",
        "  return count\n",
        "\n",
        "# --- Example Usage ---\n",
        "\n",
        "# Create a dummy file for demonstration\n",
        "file_name = \"sample_text.txt\"\n",
        "word_to_find = \"the\" # The word we want to count\n",
        "\n",
        "try:\n",
        "    with open(file_name, \"w\", encoding='utf-8') as f:\n",
        "        f.write(\"This is a sample text file.\\n\")\n",
        "        f.write(\"The file contains some sample words.\\n\")\n",
        "        f.write(\"Let's count the occurrences of the word 'the'.\\n\")\n",
        "        f.write(\"Another line with The word.\\n\")\n",
        "except IOError:\n",
        "    pass # Ignore if file creation fails\n",
        "\n",
        "print(f\"--- Counting occurrences of '{word_to_find}' in '{file_name}' ---\")\n",
        "occurrences = count_word_occurrences(file_name, word_to_find)\n",
        "\n",
        "if occurrences != -1: # Check if the function returned a valid count\n",
        "  print(f\"The word '{word_to_find}' appears {occurrences} times in the file.\")\n",
        "\n",
        "print(\"-\" * 20)\n",
        "\n",
        "# Example with a word that might not be present\n",
        "word_to_find_2 = \"python\"\n",
        "print(f\"--- Counting occurrences of '{word_to_find_2}' in '{file_name}' ---\")\n",
        "occurrences_2 = count_word_occurrences(file_name, word_to_find_2)\n",
        "\n",
        "if occurrences_2 != -1:\n",
        "    print(f\"The word '{word_to_find_2}' appears {occurrences_2} times in the file.\")\n",
        "\n",
        "print(\"-\" * 20)\n",
        "\n",
        "# Example with a non-existent file\n",
        "non_existent_file = \"non_existent_word_count_file.txt\"\n",
        "word_to_find_3 = \"test\"\n",
        "print(f\"--- Counting occurrences of '{word_to_find_3}' in '{non_existent_file}' ---\")\n",
        "occurrences_3 = count_word_occurrences(non_existent_file, word_to_find_3)\n",
        "\n",
        "if occurrences_3 != -1:\n",
        "    print(f\"The word '{word_to_find_3}' appears {occurrences_3} times in the file.\")"
      ],
      "metadata": {
        "colab": {
          "base_uri": "https://localhost:8080/"
        },
        "id": "5TClD5x8aLEu",
        "outputId": "70da5d6c-cfa8-4029-d010-8737963f5d62"
      },
      "execution_count": 22,
      "outputs": [
        {
          "output_type": "stream",
          "name": "stdout",
          "text": [
            "--- Counting occurrences of 'the' in 'sample_text.txt' ---\n",
            "The word 'the' appears 5 times in the file.\n",
            "--------------------\n",
            "--- Counting occurrences of 'python' in 'sample_text.txt' ---\n",
            "The word 'python' appears 0 times in the file.\n",
            "--------------------\n",
            "--- Counting occurrences of 'test' in 'non_existent_word_count_file.txt' ---\n",
            "Error: The file 'non_existent_word_count_file.txt' was not found.\n"
          ]
        }
      ]
    },
    {
      "cell_type": "markdown",
      "source": [
        "Ques 22. How can you check if a file is empty before attempting to read its contents ?"
      ],
      "metadata": {
        "id": "fFgu1khZamzG"
      }
    },
    {
      "cell_type": "code",
      "source": [
        "import os\n",
        "\n",
        "def is_file_empty_by_size(file_path):\n",
        "  \"\"\"\n",
        "  Checks if a file is empty by checking its size using os.path.getsize().\n",
        "  Returns True if empty, False if not empty, or None if the file doesn't exist.\n",
        "  \"\"\"\n",
        "  try:\n",
        "    if not os.path.exists(file_path):\n",
        "      print(f\"Error: File '{file_path}' not found.\")\n",
        "      return None # Indicate file doesn't exist\n",
        "\n",
        "    file_size = os.path.getsize(file_path)\n",
        "    return file_size == 0 # Returns True if size is 0, False otherwise\n",
        "\n",
        "  except OSError as e:\n",
        "    # Handles potential issues getting file size (e.g., permission errors)\n",
        "    print(f\"An error occurred while getting file size for '{file_path}': {e}\")\n",
        "    return None # Indicate an error\n",
        "\n",
        "# --- Example Usage ---\n",
        "\n",
        "# Create a dummy file with content\n",
        "file_with_content = \"file_with_content_size_check.txt\"\n",
        "try:\n",
        "    with open(file_with_content, \"w\") as f:\n",
        "        f.write(\"This file has some content.\")\n",
        "except IOError:\n",
        "    pass\n",
        "\n",
        "print(f\"--- Checking '{file_with_content}' by size ---\")\n",
        "is_empty = is_file_empty_by_size(file_with_content)\n",
        "if is_empty is not None:\n",
        "    if is_empty:\n",
        "        print(f\"'{file_with_content}' is empty.\")\n",
        "    else:\n",
        "        print(f\"'{file_with_content}' is NOT empty.\")\n",
        "\n",
        "print(\"-\" * 20)\n",
        "\n",
        "# Create a dummy empty file\n",
        "empty_file = \"empty_file_size_check.txt\"\n",
        "try:\n",
        "    with open(empty_file, \"w\") as f:\n",
        "        pass\n",
        "except IOError:\n",
        "    pass\n",
        "\n",
        "print(f\"--- Checking '{empty_file}' by size ---\")\n",
        "is_empty = is_file_empty_by_size(empty_file)\n",
        "if is_empty is not None:\n",
        "    if is_empty:\n",
        "        print(f\"'{empty_file}' is empty.\")\n",
        "    else:\n",
        "        print(f\"'{empty_file}' is NOT empty.\")\n",
        "\n",
        "print(\"-\" * 20)\n",
        "\n",
        "# Checking a non-existent file\n",
        "non_existent_file = \"non_existent_size_check.txt\"\n",
        "print(f\"--- Checking '{non_existent_file}' by size ---\")\n",
        "is_empty = is_file_empty_by_size(non_existent_file)\n",
        "if is_empty is None:\n",
        "    print(f\"Could not check '{non_existent_file}' (likely not found).\")"
      ],
      "metadata": {
        "colab": {
          "base_uri": "https://localhost:8080/"
        },
        "id": "RBmB0n_-aqtu",
        "outputId": "851f55a9-53d7-4aad-b0d4-5841e265d636"
      },
      "execution_count": 23,
      "outputs": [
        {
          "output_type": "stream",
          "name": "stdout",
          "text": [
            "--- Checking 'file_with_content_size_check.txt' by size ---\n",
            "'file_with_content_size_check.txt' is NOT empty.\n",
            "--------------------\n",
            "--- Checking 'empty_file_size_check.txt' by size ---\n",
            "'empty_file_size_check.txt' is empty.\n",
            "--------------------\n",
            "--- Checking 'non_existent_size_check.txt' by size ---\n",
            "Error: File 'non_existent_size_check.txt' not found.\n",
            "Could not check 'non_existent_size_check.txt' (likely not found).\n"
          ]
        }
      ]
    },
    {
      "cell_type": "markdown",
      "source": [
        "Ques 23. Write a Python program that writes to a log file when an error occurs during file handling"
      ],
      "metadata": {
        "id": "ktxABa_BbDBf"
      }
    },
    {
      "cell_type": "code",
      "source": [
        "import logging\n",
        "\n",
        "# Configure logging to write to a file\n",
        "logging.basicConfig(filename='file_handling_errors.log',\n",
        "                    level=logging.ERROR, # Only log ERROR and above messages\n",
        "                    format='%(asctime)s - %(levelname)s - %(message)s')\n",
        "\n",
        "def safe_file_read(file_path):\n",
        "  \"\"\"\n",
        "  Attempts to read a file and logs an error if file handling fails.\n",
        "  \"\"\"\n",
        "  try:\n",
        "    with open(file_path, 'r') as file:\n",
        "      print(f\"Successfully opened '{file_path}'. Content:\")\n",
        "      print(file.read())\n",
        "\n",
        "  except FileNotFoundError:\n",
        "    error_message = f\"Attempted to read non-existent file: {file_path}\"\n",
        "    logging.error(error_message) # Log the specific error\n",
        "    print(f\"Error: File '{file_path}' not found. An error has been logged.\")\n",
        "\n",
        "  except IOError as e:\n",
        "    error_message = f\"An I/O error occurred while handling file '{file_path}': {e}\"\n",
        "    logging.error(error_message) # Log the general I/O error\n",
        "    print(f\"An unexpected error occurred while accessing '{file_path}'. An error has been logged.\")\n",
        "\n",
        "# --- Example Usage ---\n",
        "\n",
        "# Case 1: Reading a file that exists (no error)\n",
        "existing_file = \"my_existing_file.txt\"\n",
        "# Create a dummy file for demonstration\n",
        "try:\n",
        "    with open(existing_file, \"w\") as f:\n",
        "        f.write(\"This file exists.\")\n",
        "except IOError:\n",
        "    pass\n",
        "\n",
        "print(f\"--- Attempting to read '{existing_file}' ---\")\n",
        "safe_file_read(existing_file)\n",
        "\n",
        "print(\"-\" * 20) # Separator\n",
        "\n",
        "# Case 2: Attempting to read a non-existent file (FileNotFoundError will be logged)\n",
        "non_existent_file = \"this_file_should_not_exist.txt\"\n",
        "print(f\"--- Attempting to read '{non_existent_file}' ---\")\n",
        "safe_file_read(non_existent_file)\n",
        "\n",
        "# Note: To simulate other IOError, you might need to set file permissions or cause\n",
        "# another external issue. FileNotFoundError is a common one to log.\n",
        "\n",
        "print(\"\\nCheck 'file_handling_errors.log' for logged errors.\")"
      ],
      "metadata": {
        "colab": {
          "base_uri": "https://localhost:8080/"
        },
        "id": "SSXwjKI7bIea",
        "outputId": "29404fc0-1f06-4b62-867c-88ac721ec094"
      },
      "execution_count": 24,
      "outputs": [
        {
          "output_type": "stream",
          "name": "stderr",
          "text": [
            "ERROR:root:Attempted to read non-existent file: this_file_should_not_exist.txt\n"
          ]
        },
        {
          "output_type": "stream",
          "name": "stdout",
          "text": [
            "--- Attempting to read 'my_existing_file.txt' ---\n",
            "Successfully opened 'my_existing_file.txt'. Content:\n",
            "This file exists.\n",
            "--------------------\n",
            "--- Attempting to read 'this_file_should_not_exist.txt' ---\n",
            "Error: File 'this_file_should_not_exist.txt' not found. An error has been logged.\n",
            "\n",
            "Check 'file_handling_errors.log' for logged errors.\n"
          ]
        }
      ]
    },
    {
      "cell_type": "markdown",
      "source": [],
      "metadata": {
        "id": "yod2oc4MYjGN"
      }
    },
    {
      "cell_type": "markdown",
      "source": [],
      "metadata": {
        "id": "siRc30yk5EER"
      }
    },
    {
      "cell_type": "code",
      "source": [],
      "metadata": {
        "id": "5q1GizHtp2tB"
      },
      "execution_count": null,
      "outputs": []
    },
    {
      "cell_type": "code",
      "execution_count": null,
      "metadata": {
        "id": "_obq6FYuohAX"
      },
      "outputs": [],
      "source": []
    }
  ]
}